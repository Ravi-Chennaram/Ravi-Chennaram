{
  "cells": [
    {
      "cell_type": "markdown",
      "metadata": {
        "id": "view-in-github",
        "colab_type": "text"
      },
      "source": [
        "<a href=\"https://colab.research.google.com/github/Ravi-Chennaram/Ravi-Chennaram/blob/main/Snippets_Accessing_files.ipynb\" target=\"_parent\"><img src=\"https://colab.research.google.com/assets/colab-badge.svg\" alt=\"Open In Colab\"/></a>"
      ]
    },
    {
      "cell_type": "code",
      "source": [
        "import pandas as pd\n",
        "import numpy as np\n",
        "from google.colab import auth\n",
        "auth.authenticate_user()\n",
        "\n",
        "# https://cloud.google.com/resource-manager/docs/creating-managing-projects\n",
        "project_id = 'coral-atom-339822'\n",
        "!gcloud config set project \tcoral-atom-339822\n",
        "\n",
        "# Download the file from a given Google Cloud Storage bucket.\n",
        "!gsutil cp gs://endangered_species_raw_set/black-rhinos.csv /tmp/gsutil_download.csv\n",
        "  \n",
        "# Print the result to make sure the transfer worked.\n",
        "# !cat /tmp/gsutil_download.csv \n",
        "\n",
        "df = pd.read_csv(\"/tmp/gsutil_download.csv\")\n",
        "# print(df)\n",
        "\n",
        "!gsutil cp /tmp/gsutil_download.csv gs://endangered_species_cleaned_set/gsutil_download.csv"
      ],
      "metadata": {
        "id": "bQHqCaBKiR9O",
        "outputId": "99007af8-9a94-4b85-87d4-85e5cd544fde",
        "colab": {
          "base_uri": "https://localhost:8080/"
        }
      },
      "execution_count": 37,
      "outputs": [
        {
          "output_type": "stream",
          "name": "stdout",
          "text": [
            "Updated property [core/project].\n",
            "Copying gs://endangered_species_raw_set/black-rhinos.csv...\n",
            "/ [1 files][  3.9 KiB/  3.9 KiB]                                                \n",
            "Operation completed over 1 objects/3.9 KiB.                                      \n",
            "Copying file:///tmp/gsutil_download.csv [Content-Type=text/csv]...\n",
            "/ [1 files][  3.9 KiB/  3.9 KiB]                                                \n",
            "Operation completed over 1 objects/3.9 KiB.                                      \n"
          ]
        }
      ]
    }
  ],
  "metadata": {
    "colab": {
      "collapsed_sections": [],
      "name": "Snippets: Accessing files",
      "provenance": [],
      "include_colab_link": true
    },
    "kernelspec": {
      "display_name": "Python 3",
      "name": "python3"
    }
  },
  "nbformat": 4,
  "nbformat_minor": 0
}